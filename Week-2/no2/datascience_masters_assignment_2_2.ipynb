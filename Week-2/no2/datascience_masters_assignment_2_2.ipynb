{
 "cells": [
  {
   "cell_type": "code",
   "execution_count": 9,
   "metadata": {},
   "outputs": [
    {
     "name": "stdout",
     "output_type": "stream",
     "text": [
      "Enter the maximum number of row for triangle: 5\n",
      "* \n",
      "* * \n",
      "* * * \n",
      "* * * * \n",
      "* * * * * \n",
      "* * * * \n",
      "* * * \n",
      "* * \n",
      "* \n"
     ]
    }
   ],
   "source": [
    "def printPattern(rows):\n",
    "    counter = 0;\n",
    "    for i in range(0, (rows + (rows - 1))):\n",
    "        if (i > rows - 1):\n",
    "            counter = counter - 1;\n",
    "        else:\n",
    "            counter = counter + 1\n",
    "        for j in range(counter):\n",
    "            print('*', end=\" \")\n",
    "        print(\"\\r\")\n",
    "\n",
    "\n",
    "rowMaxSize = input('Enter the maximum number of row for triangle: ')\n",
    "printPattern(int(rowMaxSize))\n",
    "        "
   ]
  },
  {
   "cell_type": "code",
   "execution_count": null,
   "metadata": {
    "collapsed": true
   },
   "outputs": [],
   "source": []
  }
 ],
 "metadata": {
  "kernelspec": {
   "display_name": "Python 3",
   "language": "python",
   "name": "python3"
  },
  "language_info": {
   "codemirror_mode": {
    "name": "ipython",
    "version": 3
   },
   "file_extension": ".py",
   "mimetype": "text/x-python",
   "name": "python",
   "nbconvert_exporter": "python",
   "pygments_lexer": "ipython3",
   "version": "3.6.3"
  }
 },
 "nbformat": 4,
 "nbformat_minor": 2
}
