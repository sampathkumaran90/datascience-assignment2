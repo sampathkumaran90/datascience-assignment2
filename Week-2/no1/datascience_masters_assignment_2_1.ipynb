{
 "cells": [
  {
   "cell_type": "code",
   "execution_count": 3,
   "metadata": {},
   "outputs": [
    {
     "name": "stdout",
     "output_type": "stream",
     "text": [
      "Enter the numbers in sequence: 1,2,3\n",
      "['1', '2', '3']\n"
     ]
    }
   ],
   "source": [
    "def generateList(input_str):\n",
    "    list = [];\n",
    "    for i in input_str.split(','):\n",
    "        list.append(i)\n",
    "    print(list)\n",
    "\n",
    "input_str = input('Enter the numbers in sequence: ')\n",
    "generateList(input_str)"
   ]
  },
  {
   "cell_type": "code",
   "execution_count": null,
   "metadata": {
    "collapsed": true
   },
   "outputs": [],
   "source": []
  },
  {
   "cell_type": "code",
   "execution_count": null,
   "metadata": {
    "collapsed": true
   },
   "outputs": [],
   "source": []
  }
 ],
 "metadata": {
  "kernelspec": {
   "display_name": "Python 3",
   "language": "python",
   "name": "python3"
  },
  "language_info": {
   "codemirror_mode": {
    "name": "ipython",
    "version": 3
   },
   "file_extension": ".py",
   "mimetype": "text/x-python",
   "name": "python",
   "nbconvert_exporter": "python",
   "pygments_lexer": "ipython3",
   "version": "3.6.3"
  }
 },
 "nbformat": 4,
 "nbformat_minor": 2
}
